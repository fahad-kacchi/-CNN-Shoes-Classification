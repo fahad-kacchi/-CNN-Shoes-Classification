{
 "cells": [
  {
   "cell_type": "markdown",
   "id": "cc2d0a5b-4796-4925-8453-0e24bc9c5998",
   "metadata": {},
   "source": [
    "# Importing library"
   ]
  },
  {
   "cell_type": "code",
   "execution_count": 2,
   "id": "9f793e49",
   "metadata": {},
   "outputs": [],
   "source": [
    "from keras.models import Sequential\n",
    "from keras.layers import Convolution2D, MaxPooling2D, Flatten, Dense\n",
    "from tensorflow.keras.preprocessing.image import ImageDataGenerator\n",
    "from keras.optimizers import Adam\n",
    "from keras.models import load_model\n",
    "import numpy as np\n",
    "import matplotlib.pyplot as plt\n",
    "import cv2  # For displaying images\n",
    "\n",
    "\n",
    "import warnings\n",
    "warnings.filterwarnings(\"ignore\")"
   ]
  },
  {
   "cell_type": "markdown",
   "id": "e06297d6-5d65-4a2d-8be6-408987e77572",
   "metadata": {},
   "source": [
    "# Model Building"
   ]
  },
  {
   "cell_type": "code",
   "execution_count": 3,
   "id": "a81d746a",
   "metadata": {},
   "outputs": [],
   "source": [
    "# Initialising the CNN\n",
    "classifier = Sequential()\n",
    "\n",
    "################### CNN - 1 ###################\n",
    "# Step 1 - Convolution Layer\n",
    "classifier.add(Convolution2D(32, (3, 3), input_shape=(224, 224, 3), activation='relu'))  # Adjust input_shape to (224, 224, 3)\n",
    "\n",
    "# Step 2 - Pooling Layer\n",
    "classifier.add(MaxPooling2D(pool_size=(2, 2)))\n",
    "\n",
    "################### CNN - 2 ###################\n",
    "classifier.add(Convolution2D(64, (3, 3), activation='relu'))\n",
    "classifier.add(MaxPooling2D(pool_size=(2, 2)))\n",
    "\n",
    "################### CNN - 3 ###################\n",
    "classifier.add(Convolution2D(128, (3, 3), activation='relu'))\n",
    "classifier.add(MaxPooling2D(pool_size=(2, 2)))\n",
    "\n",
    "#################### Flattening Layer ################### \n",
    "classifier.add(Flatten())\n",
    "\n",
    "#################### Step 4 - Full connection (Neural Network) ###################\n",
    "classifier.add(Dense(units=512, activation='relu'))   # Hidden layer with 512 neurons\n",
    "classifier.add(Dense(units=3, activation='softmax'))  # Output layer with 3 neurons (one for each category)"
   ]
  },
  {
   "cell_type": "code",
   "execution_count": 4,
   "id": "e87ca09d",
   "metadata": {},
   "outputs": [],
   "source": [
    "# Compiling the CNN\n",
    "classifier.compile(optimizer=Adam(learning_rate=0.001), \n",
    "                    loss='categorical_crossentropy', \n",
    "                    metrics=['accuracy'])"
   ]
  },
  {
   "cell_type": "code",
   "execution_count": 6,
   "id": "549d3b0e",
   "metadata": {},
   "outputs": [
    {
     "name": "stdout",
     "output_type": "stream",
     "text": [
      "Model: \"sequential\"\n",
      "_________________________________________________________________\n",
      " Layer (type)                Output Shape              Param #   \n",
      "=================================================================\n",
      " conv2d (Conv2D)             (None, 222, 222, 32)      896       \n",
      "                                                                 \n",
      " max_pooling2d (MaxPooling2D  (None, 111, 111, 32)     0         \n",
      " )                                                               \n",
      "                                                                 \n",
      " conv2d_1 (Conv2D)           (None, 109, 109, 64)      18496     \n",
      "                                                                 \n",
      " max_pooling2d_1 (MaxPooling  (None, 54, 54, 64)       0         \n",
      " 2D)                                                             \n",
      "                                                                 \n",
      " conv2d_2 (Conv2D)           (None, 52, 52, 128)       73856     \n",
      "                                                                 \n",
      " max_pooling2d_2 (MaxPooling  (None, 26, 26, 128)      0         \n",
      " 2D)                                                             \n",
      "                                                                 \n",
      " flatten (Flatten)           (None, 86528)             0         \n",
      "                                                                 \n",
      " dense (Dense)               (None, 512)               44302848  \n",
      "                                                                 \n",
      " dense_1 (Dense)             (None, 3)                 1539      \n",
      "                                                                 \n",
      "=================================================================\n",
      "Total params: 44,397,635\n",
      "Trainable params: 44,397,635\n",
      "Non-trainable params: 0\n",
      "_________________________________________________________________\n"
     ]
    }
   ],
   "source": [
    "classifier.summary()"
   ]
  },
  {
   "cell_type": "markdown",
   "id": "1555f661-ca65-41b4-b29f-138598e18f6b",
   "metadata": {},
   "source": [
    "# Data Preprocessing and Augmentation"
   ]
  },
  {
   "cell_type": "code",
   "execution_count": 7,
   "id": "6ea8dfce",
   "metadata": {},
   "outputs": [],
   "source": [
    "\n",
    "train_datagen = ImageDataGenerator(\n",
    "    rescale=1./255,\n",
    "    rotation_range=20,\n",
    "    width_shift_range=0.2,\n",
    "    height_shift_range=0.2,\n",
    "    shear_range=0.2,\n",
    "    zoom_range=0.2,\n",
    "    horizontal_flip=True,\n",
    "    fill_mode='nearest',\n",
    "    validation_split=0.2  # 20% for validation\n",
    ")\n",
    "\n",
    "test_datagen = ImageDataGenerator(rescale=1./255)"
   ]
  },
  {
   "cell_type": "markdown",
   "id": "eb670844-9e33-49f9-a5ed-e5747882b943",
   "metadata": {},
   "source": [
    "# Loading the Data"
   ]
  },
  {
   "cell_type": "code",
   "execution_count": 8,
   "id": "49e277c9",
   "metadata": {},
   "outputs": [
    {
     "name": "stdout",
     "output_type": "stream",
     "text": [
      "Found 623 images belonging to 3 classes.\n",
      "Found 155 images belonging to 3 classes.\n",
      "Found 89 images belonging to 3 classes.\n"
     ]
    }
   ],
   "source": [
    "training_set = train_datagen.flow_from_directory(\n",
    "    r\"/home/fahad.kachhi/GIT HUB/(CNN) Shoes Classification by  Fahad Kacchi  (1)/Shoe Classification Data/train\",\n",
    "    target_size=(224, 224),\n",
    "    batch_size=32,\n",
    "    class_mode='categorical',  # Multiclass classification\n",
    "    subset='training'\n",
    ")\n",
    "\n",
    "validation_set = train_datagen.flow_from_directory(\n",
    "    r\"/home/fahad.kachhi/GIT HUB/(CNN) Shoes Classification by  Fahad Kacchi  (1)/Shoe Classification Data/train\",\n",
    "    target_size=(224, 224),\n",
    "    batch_size=32,\n",
    "    class_mode='categorical',  # Multiclass classification\n",
    "    subset='validation'\n",
    ")\n",
    "\n",
    "test_set = test_datagen.flow_from_directory(\n",
    "    r\"/home/fahad.kachhi/GIT HUB/(CNN) Shoes Classification by  Fahad Kacchi  (1)/Shoe Classification Data/test\",\n",
    "    target_size=(224, 224),\n",
    "    batch_size=32,\n",
    "    class_mode='categorical',  \n",
    "    shuffle=False\n",
    ")"
   ]
  },
  {
   "cell_type": "markdown",
   "id": "e8691b3c-00ff-4a25-9efb-7ebea1b1a70c",
   "metadata": {},
   "source": [
    "# Training the Model"
   ]
  },
  {
   "cell_type": "code",
   "execution_count": 9,
   "id": "4a002429",
   "metadata": {},
   "outputs": [
    {
     "name": "stdout",
     "output_type": "stream",
     "text": [
      "Epoch 1/20\n"
     ]
    },
    {
     "name": "stderr",
     "output_type": "stream",
     "text": [
      "2024-09-18 18:08:27.520758: I tensorflow/core/common_runtime/executor.cc:1197] [/device:CPU:0] (DEBUG INFO) Executor start aborting (this does not indicate an error and you can ignore this message): INVALID_ARGUMENT: You must feed a value for placeholder tensor 'Placeholder/_0' with dtype int32\n",
      "\t [[{{node Placeholder/_0}}]]\n"
     ]
    },
    {
     "name": "stdout",
     "output_type": "stream",
     "text": [
      "20/20 [==============================] - ETA: 0s - loss: 2.5775 - accuracy: 0.4109"
     ]
    },
    {
     "name": "stderr",
     "output_type": "stream",
     "text": [
      "2024-09-18 18:08:39.353068: I tensorflow/core/common_runtime/executor.cc:1197] [/device:CPU:0] (DEBUG INFO) Executor start aborting (this does not indicate an error and you can ignore this message): INVALID_ARGUMENT: You must feed a value for placeholder tensor 'Placeholder/_0' with dtype int32\n",
      "\t [[{{node Placeholder/_0}}]]\n"
     ]
    },
    {
     "name": "stdout",
     "output_type": "stream",
     "text": [
      "20/20 [==============================] - 13s 636ms/step - loss: 2.5775 - accuracy: 0.4109 - val_loss: 1.0251 - val_accuracy: 0.5419\n",
      "Epoch 2/20\n",
      "20/20 [==============================] - 12s 627ms/step - loss: 0.9985 - accuracy: 0.5233 - val_loss: 0.9066 - val_accuracy: 0.7032\n",
      "Epoch 3/20\n",
      "20/20 [==============================] - 13s 627ms/step - loss: 0.8948 - accuracy: 0.6356 - val_loss: 0.9747 - val_accuracy: 0.6387\n",
      "Epoch 4/20\n",
      "20/20 [==============================] - 13s 633ms/step - loss: 0.7648 - accuracy: 0.6934 - val_loss: 0.7721 - val_accuracy: 0.6968\n",
      "Epoch 5/20\n",
      "20/20 [==============================] - 14s 676ms/step - loss: 0.7617 - accuracy: 0.6629 - val_loss: 0.6925 - val_accuracy: 0.7484\n",
      "Epoch 6/20\n",
      "20/20 [==============================] - 13s 662ms/step - loss: 0.6531 - accuracy: 0.6934 - val_loss: 0.6700 - val_accuracy: 0.7226\n",
      "Epoch 7/20\n",
      "20/20 [==============================] - 14s 687ms/step - loss: 0.6434 - accuracy: 0.7368 - val_loss: 0.6625 - val_accuracy: 0.7355\n",
      "Epoch 8/20\n",
      "20/20 [==============================] - 14s 672ms/step - loss: 0.5851 - accuracy: 0.7448 - val_loss: 0.7765 - val_accuracy: 0.6774\n",
      "Epoch 9/20\n",
      "20/20 [==============================] - 13s 638ms/step - loss: 0.6172 - accuracy: 0.7496 - val_loss: 0.6587 - val_accuracy: 0.6903\n",
      "Epoch 10/20\n",
      "20/20 [==============================] - 13s 646ms/step - loss: 0.5907 - accuracy: 0.7576 - val_loss: 0.6496 - val_accuracy: 0.7032\n",
      "Epoch 11/20\n",
      "20/20 [==============================] - 13s 646ms/step - loss: 0.5662 - accuracy: 0.7608 - val_loss: 0.5154 - val_accuracy: 0.7677\n",
      "Epoch 12/20\n",
      "20/20 [==============================] - 13s 641ms/step - loss: 0.6075 - accuracy: 0.7448 - val_loss: 0.6837 - val_accuracy: 0.7226\n",
      "Epoch 13/20\n",
      "20/20 [==============================] - 13s 627ms/step - loss: 0.5051 - accuracy: 0.7945 - val_loss: 0.5498 - val_accuracy: 0.7806\n",
      "Epoch 14/20\n",
      "20/20 [==============================] - 13s 631ms/step - loss: 0.4451 - accuracy: 0.8154 - val_loss: 0.4408 - val_accuracy: 0.8387\n",
      "Epoch 15/20\n",
      "20/20 [==============================] - 13s 637ms/step - loss: 0.4681 - accuracy: 0.8138 - val_loss: 0.5403 - val_accuracy: 0.7613\n",
      "Epoch 16/20\n",
      "20/20 [==============================] - 13s 632ms/step - loss: 0.4412 - accuracy: 0.8315 - val_loss: 0.5092 - val_accuracy: 0.7935\n",
      "Epoch 17/20\n",
      "20/20 [==============================] - 13s 638ms/step - loss: 0.4218 - accuracy: 0.8218 - val_loss: 0.4352 - val_accuracy: 0.8258\n",
      "Epoch 18/20\n",
      "20/20 [==============================] - 13s 630ms/step - loss: 0.4341 - accuracy: 0.8202 - val_loss: 0.5135 - val_accuracy: 0.7935\n",
      "Epoch 19/20\n",
      "20/20 [==============================] - 13s 635ms/step - loss: 0.3967 - accuracy: 0.8218 - val_loss: 0.5245 - val_accuracy: 0.8000\n",
      "Epoch 20/20\n",
      "20/20 [==============================] - 13s 636ms/step - loss: 0.4206 - accuracy: 0.8186 - val_loss: 0.4770 - val_accuracy: 0.8000\n"
     ]
    }
   ],
   "source": [
    "result = classifier.fit(training_set, epochs=20, validation_data=validation_set)"
   ]
  },
  {
   "cell_type": "code",
   "execution_count": 40,
   "id": "01f97956",
   "metadata": {},
   "outputs": [],
   "source": [
    "# # Training the Model\n",
    "# result = classifier.fit(training_set,\n",
    "#                         epochs=30,  # Increase epochs if needed\n",
    "#                         validation_data=test_set)"
   ]
  },
  {
   "cell_type": "code",
   "execution_count": 41,
   "id": "2943ab1b",
   "metadata": {},
   "outputs": [],
   "source": [
    "classifier.save('shoe_classifier.keras')"
   ]
  },
  {
   "cell_type": "markdown",
   "id": "8944283c-650f-43f9-b5c7-29b883476578",
   "metadata": {},
   "source": [
    "# Load the saved model"
   ]
  },
  {
   "cell_type": "code",
   "execution_count": 42,
   "id": "df7b21a1",
   "metadata": {},
   "outputs": [],
   "source": [
    "reload_model = load_model(\"shoe_classifier.keras\")"
   ]
  },
  {
   "cell_type": "code",
   "execution_count": 43,
   "id": "2e8f6549",
   "metadata": {},
   "outputs": [],
   "source": [
    "from keras.models import load_model\n",
    "from tensorflow.keras.preprocessing import image\n",
    "import numpy as np\n",
    "import cv2   #pip install opencv-python\n",
    "import matplotlib.pyplot as plt \n",
    "%matplotlib inline"
   ]
  },
  {
   "cell_type": "markdown",
   "id": "18de3f67-26f3-4798-9a5d-f51f9d8a9ffa",
   "metadata": {},
   "source": [
    "# Output"
   ]
  },
  {
   "cell_type": "code",
   "execution_count": 44,
   "id": "d2cb97ae",
   "metadata": {},
   "outputs": [],
   "source": [
    "def model_output(path):\n",
    "    raw_img = image.load_img(path, target_size=(224, 224))   # Adjust target_size to (224, 224)\n",
    "    raw_img = image.img_to_array(raw_img)\n",
    "    raw_img = np.expand_dims(raw_img, axis=0)\n",
    "    raw_img = raw_img / 255\n",
    "    predictions = reload_model.predict(raw_img)[0]\n",
    "    class_indices = training_set.class_indices\n",
    "    class_labels = {v: k for k, v in class_indices.items()}\n",
    "    predicted_class = class_labels[np.argmax(predictions)]\n",
    "    \n",
    "    plt.imshow(cv2.imread(path))  # Display Image\n",
    "    plt.axis('off')\n",
    "    plt.show()\n",
    "    \n",
    "    print('Predicted Label:', predicted_class)"
   ]
  },
  {
   "cell_type": "code",
   "execution_count": 45,
   "id": "89ab6490",
   "metadata": {},
   "outputs": [],
   "source": [
    "import os \n",
    "os.chdir(r\"/home/fahad.kachhi/GIT HUB/(CNN) Shoes Classification by  Fahad Kacchi  (1)/Shoe Classification Data/Images\")"
   ]
  },
  {
   "cell_type": "code",
   "execution_count": 46,
   "id": "64fc51f1",
   "metadata": {},
   "outputs": [
    {
     "name": "stdout",
     "output_type": "stream",
     "text": [
      "\u001b[1m1/1\u001b[0m \u001b[32m━━━━━━━━━━━━━━━━━━━━\u001b[0m\u001b[37m\u001b[0m \u001b[1m0s\u001b[0m 142ms/step\n"
     ]
    },
    {
     "data": {
      "image/png": "[encoded data removed]",
      "text/plain": [
       "<Figure size 640x480 with 1 Axes>"
      ]
     },
     "metadata": {},
     "output_type": "display_data"
    },
    {
     "name": "stdout",
     "output_type": "stream",
     "text": [
      "Predicted Label: Slippers\n"
     ]
    }
   ],
   "source": [
    "# Example usage\n",
    "model_output(r\"/home/fahad.kachhi/GIT HUB/(CNN) Shoes Classification by  Fahad Kacchi  (1)/Shoe Classification Data/Images/image_file.jpg\")"
   ]
  },
  {
   "cell_type": "code",
   "execution_count": 47,
   "id": "f5248c7e",
   "metadata": {},
   "outputs": [
    {
     "name": "stdout",
     "output_type": "stream",
     "text": [
      "\u001b[1m1/1\u001b[0m \u001b[32m━━━━━━━━━━━━━━━━━━━━\u001b[0m\u001b[37m\u001b[0m \u001b[1m0s\u001b[0m 55ms/step\n"
     ]
    },
    {
     "data": {
      "image/png": "[encoded data removed]",
      "text/plain": [
       "<Figure size 640x480 with 1 Axes>"
      ]
     },
     "metadata": {},
     "output_type": "display_data"
    },
    {
     "name": "stdout",
     "output_type": "stream",
     "text": [
      "Predicted Label: Sandals\n"
     ]
    }
   ],
   "source": [
    "# Example usage\n",
    "model_output(r\"/home/fahad.kachhi/GIT HUB/(CNN) Shoes Classification by  Fahad Kacchi  (1)/Shoe Classification Data/Images/image (27).jpg\")"
   ]
  },
  {
   "cell_type": "code",
   "execution_count": 48,
   "id": "56f939ac",
   "metadata": {},
   "outputs": [
    {
     "name": "stdout",
     "output_type": "stream",
     "text": [
      "\u001b[1m1/1\u001b[0m \u001b[32m━━━━━━━━━━━━━━━━━━━━\u001b[0m\u001b[37m\u001b[0m \u001b[1m0s\u001b[0m 62ms/step\n"
     ]
    },
    {
     "data": {
      "image/png": "[encoded data removed]",
      "text/plain": [
       "<Figure size 640x480 with 1 Axes>"
      ]
     },
     "metadata": {},
     "output_type": "display_data"
    },
    {
     "name": "stdout",
     "output_type": "stream",
     "text": [
      "Predicted Label: Boots\n"
     ]
    }
   ],
   "source": [
    "# Example usage\n",
    "model_output(r\"/home/fahad.kachhi/GIT HUB/(CNN) Shoes Classification by  Fahad Kacchi  (1)/Shoe Classification Data/Images\\image (23).jpg\")"
   ]
  }
 ],
 "metadata": {
  "kernelspec": {
   "display_name": "Python 3 (ipykernel)",
   "language": "python",
   "name": "python3"
  },
  "language_info": {
   "codemirror_mode": {
    "name": "ipython",
    "version": 3
   },
   "file_extension": ".py",
   "mimetype": "text/x-python",
   "name": "python",
   "nbconvert_exporter": "python",
   "pygments_lexer": "ipython3",
   "version": "3.9.18"
  }
 },
 "nbformat": 4,
 "nbformat_minor": 5
}
